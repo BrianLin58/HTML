{
 "cells": [
  {
   "cell_type": "code",
   "execution_count": 1,
   "metadata": {},
   "outputs": [
    {
     "name": "stderr",
     "output_type": "stream",
     "text": [
      "100%|██████████| 10/10 [00:57<00:00,  5.78s/it]\n"
     ]
    }
   ],
   "source": [
    "from liblinear.liblinearutil import *\n",
    "import numpy as np\n",
    "import tqdm\n",
    "\n",
    "data_y, data_x = svm_read_problem('training.txt')\n",
    "test_y, test_x = svm_read_problem('testing.txt')\n",
    "\n",
    "data_y = np.array(data_y)\n",
    "data_x = np.array(data_x)\n",
    "test_y = np.array(test_y)\n",
    "test_x = np.array(test_x)\n",
    "\n",
    "data_size = len(data_y)\n",
    "training_size = 8000\n",
    "validation_size = data_size - training_size\n",
    "\n",
    "lambdas = [1000, 100, 10, 1, 0.1, 0.01]\n",
    "\n",
    "Evals, indexes = [], []\n",
    "for t in tqdm.trange(10):\n",
    "    np.random.seed(t)\n",
    "    \n",
    "    index = np.random.choice(data_size, training_size, replace=False)\n",
    "    mask = np.zeros(data_size, dtype=bool)\n",
    "    mask[index] = True\n",
    "    \n",
    "    training_y = data_y[mask]\n",
    "    training_x = data_x[mask]\n",
    "    validation_y = data_y[np.logical_not(mask)]\n",
    "    validation_x = data_x[np.logical_not(mask)]\n",
    "    \n",
    "    Eval = []\n",
    "    for lambda_ in lambdas:\n",
    "        C = 1/lambda_\n",
    "        model = train(training_y, training_x, f\"-s 6 -c {C} -B 1\")\n",
    "        p_labels, p_acc, p_vals = predict(validation_y, validation_x, model, \"-q\")\n",
    "        Eval.append(100 - p_acc[0])\n",
    "    index = Eval.index(min(Eval))\n",
    "    Evals.append(min(Eval))\n",
    "    indexes.append(index)\n"
   ]
  },
  {
   "cell_type": "code",
   "execution_count": 1,
   "metadata": {},
   "outputs": [],
   "source": [
    "from liblinear.liblinearutil import *\n",
    "\n",
    "data_y, data_x = svm_read_problem('training.txt')\n",
    "test_y, test_x = svm_read_problem('testing.txt')"
   ]
  },
  {
   "cell_type": "code",
   "execution_count": 2,
   "metadata": {},
   "outputs": [],
   "source": [
    "C = 1/100\n",
    "g = train(data_y, data_x, f\"-s 6 -c {C} -B 1\")\n",
    "p_labels, p_acc, p_vals = predict(test_y, test_x, g, \"-q\")"
   ]
  },
  {
   "cell_type": "code",
   "execution_count": 3,
   "metadata": {},
   "outputs": [],
   "source": [
    "import pandas as pd\n",
    "\n",
    "for i in range(len(p_labels)):\n",
    "    p_labels[i] = p_labels[i] == 1\n",
    "\n",
    "p_labels = pd.Series(p_labels)\n",
    "data = pd.read_csv(\"same_season_sample_submission.csv\")\n",
    "data[\"home_team_win\"] = p_labels\n",
    "data.to_csv(\"liblinear.csv\", index = False)"
   ]
  },
  {
   "cell_type": "code",
   "execution_count": null,
   "metadata": {},
   "outputs": [],
   "source": []
  }
 ],
 "metadata": {
  "kernelspec": {
   "display_name": "Python 3",
   "language": "python",
   "name": "python3"
  },
  "language_info": {
   "codemirror_mode": {
    "name": "ipython",
    "version": 3
   },
   "file_extension": ".py",
   "mimetype": "text/x-python",
   "name": "python",
   "nbconvert_exporter": "python",
   "pygments_lexer": "ipython3",
   "version": "3.10.7"
  }
 },
 "nbformat": 4,
 "nbformat_minor": 2
}
